{
 "cells": [
  {
   "cell_type": "code",
   "execution_count": null,
   "id": "1118f67e",
   "metadata": {},
   "outputs": [],
   "source": [
    "import random\n",
    "from collections import deque\n",
    "import pandas as pd\n",
    "import matplotlib.pyplot as plt\n",
    "import numpy as np"
   ]
  },
  {
   "cell_type": "code",
   "execution_count": 44,
   "id": "e487bbaf",
   "metadata": {},
   "outputs": [],
   "source": [
    "p = [1000, 2000, 1500, 2500, 300]   # potenciales clientes por anuncio\n",
    "q = [65, 90, 40, 60, 20]            # valoraciones mínimas\n",
    "c = [160, 300, 40, 100, 10]         # costos unitarios correspondientes\n",
    "max_ads = [15, 10, 25, 4, 30]"
   ]
  },
  {
   "cell_type": "code",
   "execution_count": 45,
   "id": "d3324154",
   "metadata": {},
   "outputs": [
    {
     "data": {
      "text/plain": [
       "{0: [0, 1, 2, 3, 4, 5, 6, 7, 8, 9, 10, 11, 12, 13, 14, 15],\n",
       " 1: [0, 1, 2, 3, 4, 5, 6, 7, 8, 9, 10],\n",
       " 2: [0,\n",
       "  1,\n",
       "  2,\n",
       "  3,\n",
       "  4,\n",
       "  5,\n",
       "  6,\n",
       "  7,\n",
       "  8,\n",
       "  9,\n",
       "  10,\n",
       "  11,\n",
       "  12,\n",
       "  13,\n",
       "  14,\n",
       "  15,\n",
       "  16,\n",
       "  17,\n",
       "  18,\n",
       "  19,\n",
       "  20,\n",
       "  21,\n",
       "  22,\n",
       "  23,\n",
       "  24,\n",
       "  25],\n",
       " 3: [0, 1, 2, 3, 4],\n",
       " 4: [0,\n",
       "  1,\n",
       "  2,\n",
       "  3,\n",
       "  4,\n",
       "  5,\n",
       "  6,\n",
       "  7,\n",
       "  8,\n",
       "  9,\n",
       "  10,\n",
       "  11,\n",
       "  12,\n",
       "  13,\n",
       "  14,\n",
       "  15,\n",
       "  16,\n",
       "  17,\n",
       "  18,\n",
       "  19,\n",
       "  20,\n",
       "  21,\n",
       "  22,\n",
       "  23,\n",
       "  24,\n",
       "  25,\n",
       "  26,\n",
       "  27,\n",
       "  28,\n",
       "  29,\n",
       "  30]}"
      ]
     },
     "execution_count": 45,
     "metadata": {},
     "output_type": "execute_result"
    }
   ],
   "source": [
    "domains = {i: list(range(max_ads[i] + 1)) for i in range(5)}\n",
    "domains"
   ]
  },
  {
   "cell_type": "code",
   "execution_count": 46,
   "id": "cb82b5e4",
   "metadata": {},
   "outputs": [],
   "source": [
    "def cons_tv(x1, x2):   return c[0]*x1 + c[1]*x2 <= 3800\n",
    "def cons_dr(x3, x4):   return c[2]*x3 + c[3]*x4 <= 2800\n",
    "def cons_d_r(x3, x5):  return c[2]*x3 + c[4]*x5 <= 3500\n",
    "\n",
    "def Z1(x):  return sum(p[i]*q[i]*x[i] for i in range(5))\n",
    "def Z2(x):  return sum(c[i]*x[i] for i in range(5))"
   ]
  },
  {
   "cell_type": "code",
   "execution_count": 47,
   "id": "9fca811c",
   "metadata": {},
   "outputs": [],
   "source": [
    "def revise(dom, i, j, cn):\n",
    "    revised = False\n",
    "    for xi in dom[i][:]:\n",
    "        if not any(cn(xi, xj) for xj in dom[j]):\n",
    "            dom[i].remove(xi)\n",
    "            revised = True\n",
    "    return revised"
   ]
  },
  {
   "cell_type": "code",
   "execution_count": 48,
   "id": "f78c9794",
   "metadata": {},
   "outputs": [],
   "source": [
    "def ac3(dom, arcs):\n",
    "    queue = deque(arcs)\n",
    "    while queue:\n",
    "        i, j, cn = queue.popleft()\n",
    "        if revise(dom, i, j, cn):\n",
    "            for a, b, cfunc in arcs:\n",
    "                if b == i and a != j:\n",
    "                    queue.append((a, b, cfunc))\n",
    "    return dom"
   ]
  },
  {
   "cell_type": "code",
   "execution_count": 49,
   "id": "953c5117",
   "metadata": {},
   "outputs": [],
   "source": [
    "def dominates_dir(a, b, directions):\n",
    "    \"\"\"\n",
    "    a, b: tuplas (x_int, z1, z2)\n",
    "    directions: lista ['max'|'min', 'max'|'min']\n",
    "    \"\"\"\n",
    "    za, zb = [a[1], a[2]], [b[1], b[2]]\n",
    "    # Debe ser al menos tan bueno en todos y mejor en uno\n",
    "    all_good = all((d=='max' and za[i] >= zb[i]) or (d=='min' and za[i] <= zb[i])\n",
    "                   for i, d in enumerate(directions))\n",
    "    strict   = any((d=='max' and za[i] > zb[i])  or (d=='min' and za[i] < zb[i])\n",
    "                   for i, d in enumerate(directions))\n",
    "    return all_good and strict"
   ]
  },
  {
   "cell_type": "code",
   "execution_count": 50,
   "id": "226ed34e",
   "metadata": {},
   "outputs": [],
   "source": [
    "def pareto_front(sols, directions):\n",
    "    \"\"\"Devuelve la lista de soluciones no dominadas según 'directions'.\"\"\"\n",
    "    front = []\n",
    "    for s in sols:\n",
    "        if not any(dominates_dir(o, s, directions) for o in sols if o!=s):\n",
    "            front.append(s)\n",
    "    return front\n"
   ]
  },
  {
   "cell_type": "code",
   "execution_count": 51,
   "id": "3797e661",
   "metadata": {},
   "outputs": [],
   "source": [
    "def dominates(a, b):\n",
    "    \"\"\"¿a = (x_a, Z1_a, Z2_a) domina a b = (x_b, Z1_b, Z2_b)?\"\"\"\n",
    "    Za1, Za2 = a[1], a[2]\n",
    "    Zb1, Zb2 = b[1], b[2]\n",
    "    return (Za1 >= Zb1 and Za2 <= Zb2) and (Za1 > Zb1 or Za2 < Zb2)"
   ]
  },
  {
   "cell_type": "code",
   "execution_count": 52,
   "id": "da968b50",
   "metadata": {},
   "outputs": [],
   "source": [
    "arcos = [\n",
    "    (0,1,cons_tv), (1,0,lambda x2,x1: cons_tv(x1,x2)),\n",
    "    (2,3,lambda x3,x4: cons_dr(x3,x4)), (3,2,lambda x4,x3: cons_dr(x3,x4)),\n",
    "    (2,4,lambda x3,x5: cons_d_r(x3,x5)), (4,2,lambda x5,x3: cons_d_r(x3,x5)),\n",
    "]"
   ]
  },
  {
   "cell_type": "code",
   "execution_count": 53,
   "id": "a75f7495",
   "metadata": {},
   "outputs": [],
   "source": [
    "pruned = ac3({i: domains[i].copy() for i in domains}, arcos)"
   ]
  },
  {
   "cell_type": "code",
   "execution_count": 54,
   "id": "10a14d45",
   "metadata": {},
   "outputs": [
    {
     "data": {
      "text/plain": [
       "[[2.650559510243977,\n",
       "  1.645697310702704,\n",
       "  15.351055130025234,\n",
       "  3.139044560723977,\n",
       "  17.61634939316163],\n",
       " [2.636860822112979,\n",
       "  8.208497871981855,\n",
       "  5.50154426029337,\n",
       "  0.27226443266683376,\n",
       "  8.67046716590246],\n",
       " [4.530880107301757,\n",
       "  1.8420138132300612,\n",
       "  21.087974967215363,\n",
       "  3.228776548433095,\n",
       "  8.448954937199527],\n",
       " [8.855442713582542,\n",
       "  1.1127127902965517,\n",
       "  11.980816933229596,\n",
       "  0.3492526353124674,\n",
       "  25.965855256746874],\n",
       " [0.5983972127891146,\n",
       "  1.777274265838924,\n",
       "  17.098958001561133,\n",
       "  1.3138538164918683,\n",
       "  14.150230706086383],\n",
       " [2.60251021328974,\n",
       "  3.5680629409932907,\n",
       "  12.425998761740702,\n",
       "  0.2947536418235961,\n",
       "  29.957675911350922],\n",
       " [2.6481089206135118,\n",
       "  4.007515964499894,\n",
       "  17.687560585752284,\n",
       "  1.877414830819915,\n",
       "  25.263979516635526],\n",
       " [3.6283074604265004,\n",
       "  9.327956993875834,\n",
       "  7.940193522289022,\n",
       "  2.471090942779767,\n",
       "  4.7680824221831095],\n",
       " [10.876158940701936,\n",
       "  3.3480121582996802,\n",
       "  2.264669581402301,\n",
       "  2.8881524390862365,\n",
       "  23.146188079263602],\n",
       " [13.62035644489331,\n",
       "  3.3244174316246733,\n",
       "  10.86777568222296,\n",
       "  1.2347036157713225,\n",
       "  2.9765578116271874],\n",
       " [4.800863305330994,\n",
       "  0.27365003019074297,\n",
       "  12.729199052107235,\n",
       "  0.6223940104234478,\n",
       "  7.7801346433182275],\n",
       " [13.94815832810667,\n",
       "  4.082744422908117,\n",
       "  5.121439236823957,\n",
       "  3.2948239715114607,\n",
       "  27.185062924864837],\n",
       " [2.4749029714764696,\n",
       "  4.877073835649219,\n",
       "  18.832252762456868,\n",
       "  3.849208019506201,\n",
       "  2.4689560019822956],\n",
       " [2.0863788172332187,\n",
       "  6.891541673340252,\n",
       "  1.4789726487354438,\n",
       "  1.3705558110789204,\n",
       "  21.54168006456162],\n",
       " [7.090385217033928,\n",
       "  2.3321268250690874,\n",
       "  0.6215913565880554,\n",
       "  3.06017941336921,\n",
       "  3.9400916610154835],\n",
       " [5.866428756128998,\n",
       "  7.391668831833802,\n",
       "  20.617885520280012,\n",
       "  3.402066248637707,\n",
       "  28.75179435953647],\n",
       " [5.505722013642121,\n",
       "  3.947386270625751,\n",
       "  9.866065585679795,\n",
       "  1.916369212430296,\n",
       "  5.143577382067677],\n",
       " [14.220956817035429,\n",
       "  2.170500328924516,\n",
       "  5.347179108993494,\n",
       "  2.7250290645192434,\n",
       "  11.158098960466026],\n",
       " [1.6071862465285425,\n",
       "  0.049299576872248174,\n",
       "  19.88847181541218,\n",
       "  3.974094335595172,\n",
       "  26.294662615665352],\n",
       " [4.974736944927018,\n",
       "  6.199878208185556,\n",
       "  15.93698828203826,\n",
       "  3.9562671613814007,\n",
       "  19.956970634841618],\n",
       " [8.814375616163451,\n",
       "  9.716542092189457,\n",
       "  13.592103422797921,\n",
       "  1.7732997507842905,\n",
       "  29.702836093730603],\n",
       " [6.082146997705551,\n",
       "  5.482003934799618,\n",
       "  4.781469863279749,\n",
       "  3.2100663193237415,\n",
       "  18.796311144318523],\n",
       " [1.823999649941307,\n",
       "  4.804011919304223,\n",
       "  24.772818505628614,\n",
       "  2.1912710752718736,\n",
       "  28.300853285059414],\n",
       " [3.633509440990772,\n",
       "  2.573362579176278,\n",
       "  2.2492731736107388,\n",
       "  3.8943269000474365,\n",
       "  24.33229721496954],\n",
       " [5.517912608385435,\n",
       "  7.229235705593559,\n",
       "  9.943995257535299,\n",
       "  3.4262872650932854,\n",
       "  14.520420520736913],\n",
       " [13.096552151405735,\n",
       "  3.6007038515500476,\n",
       "  4.283257607377158,\n",
       "  1.0984004265460223,\n",
       "  19.366228452902547],\n",
       " [9.585580420103158,\n",
       "  1.1590444391581922,\n",
       "  12.282304282283969,\n",
       "  3.2650154428119578,\n",
       "  7.524824573183308],\n",
       " [12.972290945921044,\n",
       "  2.1121339115191318,\n",
       "  8.324043739295767,\n",
       "  3.548640819534112,\n",
       "  16.2164408080623],\n",
       " [2.677391942220882,\n",
       "  7.694721264313424,\n",
       "  8.468509526591351,\n",
       "  1.2599380779225786,\n",
       "  18.561608785820717],\n",
       " [0.656018341426034,\n",
       "  6.412671960662894,\n",
       "  2.754309780743827,\n",
       "  0.7562687856666286,\n",
       "  28.911023810102417]]"
      ]
     },
     "execution_count": 54,
     "metadata": {},
     "output_type": "execute_result"
    }
   ],
   "source": [
    "N, T = 30, 100\n",
    "all_solutions = []   # acumularemos (x_int, Z1, Z2)\n",
    "pop = [[random.uniform(0, max_ads[i]) for i in range(5)] for _ in range(N)]\n",
    "pop"
   ]
  },
  {
   "cell_type": "code",
   "execution_count": 55,
   "id": "d552f33d",
   "metadata": {},
   "outputs": [],
   "source": [
    "def record_solution(x_int):\n",
    "    z1, z2 = Z1(x_int), Z2(x_int)\n",
    "    tup = (tuple(x_int), z1, z2)\n",
    "    all_solutions.append(tup)"
   ]
  },
  {
   "cell_type": "code",
   "execution_count": 56,
   "id": "0a53a3ea",
   "metadata": {},
   "outputs": [],
   "source": [
    "for ind in pop:\n",
    "    x_int = [int(round(v)) for v in ind]\n",
    "    if cons_tv(x_int[0],x_int[1]) and cons_dr(x_int[2],x_int[3]) and cons_d_r(x_int[2],x_int[4]):\n",
    "        record_solution(x_int)"
   ]
  },
  {
   "cell_type": "code",
   "execution_count": 57,
   "id": "160235eb",
   "metadata": {},
   "outputs": [],
   "source": [
    "for t in range(1, T+1):\n",
    "    new_pop = []\n",
    "    for ind in pop:\n",
    "        leader = random.choice(all_solutions)[0]\n",
    "        if random.random() < 0.5:\n",
    "            new = [ ind[i] + random.random()*(leader[i]-ind[i])*random.randint(1,2) for i in range(5) ]\n",
    "        else:\n",
    "            factor = 1 - t/ T\n",
    "            new = [ ind[i] + random.random()*(leader[i]-ind[i])*factor for i in range(5) ]\n",
    "        new = [ max(0, min(max_ads[i], v)) for i, v in enumerate(new) ]\n",
    "        new_pop.append(new)\n",
    "    # evaluamos y grabamos factibles\n",
    "    for ind in new_pop:\n",
    "        x_int = [int(round(v)) for v in ind]\n",
    "        if cons_tv(x_int[0],x_int[1]) and cons_dr(x_int[2],x_int[3]) and cons_d_r(x_int[2],x_int[4]):\n",
    "            record_solution(x_int)\n",
    "    pop = new_pop"
   ]
  },
  {
   "cell_type": "code",
   "execution_count": 58,
   "id": "85f232c3",
   "metadata": {},
   "outputs": [],
   "source": [
    "front_maxmin = pareto_front(all_solutions, ['max','min'])\n",
    "\n",
    "front_minmax = pareto_front(all_solutions, ['min','max'])"
   ]
  },
  {
   "cell_type": "code",
   "execution_count": 59,
   "id": "4f682c3a",
   "metadata": {},
   "outputs": [],
   "source": [
    "df_mm = pd.DataFrame([(z1,z2) for _,z1,z2 in front_maxmin], columns=['Z1','Z2'])\n",
    "df_mn = pd.DataFrame([(z1,z2) for _,z1,z2 in front_minmax], columns=['Z1','Z2'])"
   ]
  },
  {
   "cell_type": "code",
   "execution_count": 60,
   "id": "bc898987",
   "metadata": {},
   "outputs": [
    {
     "name": "stdout",
     "output_type": "stream",
     "text": [
      "                 Z1           Z2\n",
      "count  3.700000e+01    37.000000\n",
      "mean   2.621568e+06  2871.081081\n",
      "std    8.009342e+05  1236.769501\n",
      "min    9.830000e+05   880.000000\n",
      "25%    1.965000e+06  1750.000000\n",
      "50%    2.894000e+06  3200.000000\n",
      "75%    3.266000e+06  4060.000000\n",
      "max    3.737000e+06  4790.000000\n",
      "                 Z1           Z2\n",
      "count  4.500000e+01    45.000000\n",
      "mean   1.952044e+06  3034.888889\n",
      "std    8.012515e+05  1181.892977\n",
      "min    6.660000e+05  1050.000000\n",
      "25%    1.349000e+06  2100.000000\n",
      "50%    1.761000e+06  3020.000000\n",
      "75%    2.439000e+06  4000.000000\n",
      "max    3.737000e+06  4790.000000\n"
     ]
    }
   ],
   "source": [
    "print(df_mm.describe()[['Z1','Z2']])\n",
    "print(df_mn.describe()[['Z1','Z2']])"
   ]
  },
  {
   "cell_type": "code",
   "execution_count": 61,
   "id": "190746ca",
   "metadata": {},
   "outputs": [
    {
     "data": {
      "application/vnd.microsoft.datawrangler.viewer.v0+json": {
       "columns": [
        {
         "name": "index",
         "rawType": "int64",
         "type": "integer"
        },
        {
         "name": "Z1",
         "rawType": "int64",
         "type": "integer"
        },
        {
         "name": "Z2",
         "rawType": "int64",
         "type": "integer"
        }
       ],
       "ref": "e7f0423a-27f3-4ba4-8d06-41aa99619076",
       "rows": [
        [
         "0",
         "983000",
         "880"
        ],
        [
         "1",
         "1182000",
         "890"
        ],
        [
         "2",
         "1380000",
         "1040"
        ],
        [
         "3",
         "1386000",
         "1050"
        ],
        [
         "4",
         "1566000",
         "1140"
        ],
        [
         "5",
         "1620000",
         "1380"
        ],
        [
         "6",
         "1659000",
         "1570"
        ],
        [
         "7",
         "1678000",
         "1640"
        ],
        [
         "8",
         "1841000",
         "1650"
        ],
        [
         "9",
         "1965000",
         "1750"
        ],
        [
         "10",
         "1965000",
         "1750"
        ],
        [
         "11",
         "2086000",
         "1780"
        ],
        [
         "12",
         "2147000",
         "2160"
        ],
        [
         "13",
         "2512000",
         "2190"
        ],
        [
         "14",
         "2571000",
         "2340"
        ],
        [
         "15",
         "2697000",
         "2550"
        ],
        [
         "16",
         "2863000",
         "2930"
        ],
        [
         "17",
         "2889000",
         "3080"
        ],
        [
         "18",
         "2894000",
         "3200"
        ],
        [
         "19",
         "2934000",
         "3250"
        ],
        [
         "20",
         "2966000",
         "3260"
        ],
        [
         "21",
         "2998000",
         "3300"
        ],
        [
         "22",
         "3003000",
         "3360"
        ],
        [
         "23",
         "3009000",
         "3620"
        ],
        [
         "24",
         "3032000",
         "3670"
        ],
        [
         "25",
         "3095000",
         "3680"
        ],
        [
         "26",
         "3225000",
         "3740"
        ],
        [
         "27",
         "3266000",
         "4060"
        ],
        [
         "28",
         "3316000",
         "4160"
        ],
        [
         "29",
         "3331000",
         "4170"
        ],
        [
         "30",
         "3400000",
         "4210"
        ],
        [
         "31",
         "3400000",
         "4210"
        ],
        [
         "32",
         "3466000",
         "4260"
        ],
        [
         "33",
         "3625000",
         "4350"
        ],
        [
         "34",
         "3630000",
         "4470"
        ],
        [
         "35",
         "3681000",
         "4700"
        ],
        [
         "36",
         "3737000",
         "4790"
        ]
       ],
       "shape": {
        "columns": 2,
        "rows": 37
       }
      },
      "text/html": [
       "<div>\n",
       "<style scoped>\n",
       "    .dataframe tbody tr th:only-of-type {\n",
       "        vertical-align: middle;\n",
       "    }\n",
       "\n",
       "    .dataframe tbody tr th {\n",
       "        vertical-align: top;\n",
       "    }\n",
       "\n",
       "    .dataframe thead th {\n",
       "        text-align: right;\n",
       "    }\n",
       "</style>\n",
       "<table border=\"1\" class=\"dataframe\">\n",
       "  <thead>\n",
       "    <tr style=\"text-align: right;\">\n",
       "      <th></th>\n",
       "      <th>Z1</th>\n",
       "      <th>Z2</th>\n",
       "    </tr>\n",
       "  </thead>\n",
       "  <tbody>\n",
       "    <tr>\n",
       "      <th>0</th>\n",
       "      <td>983000</td>\n",
       "      <td>880</td>\n",
       "    </tr>\n",
       "    <tr>\n",
       "      <th>1</th>\n",
       "      <td>1182000</td>\n",
       "      <td>890</td>\n",
       "    </tr>\n",
       "    <tr>\n",
       "      <th>2</th>\n",
       "      <td>1380000</td>\n",
       "      <td>1040</td>\n",
       "    </tr>\n",
       "    <tr>\n",
       "      <th>3</th>\n",
       "      <td>1386000</td>\n",
       "      <td>1050</td>\n",
       "    </tr>\n",
       "    <tr>\n",
       "      <th>4</th>\n",
       "      <td>1566000</td>\n",
       "      <td>1140</td>\n",
       "    </tr>\n",
       "    <tr>\n",
       "      <th>5</th>\n",
       "      <td>1620000</td>\n",
       "      <td>1380</td>\n",
       "    </tr>\n",
       "    <tr>\n",
       "      <th>6</th>\n",
       "      <td>1659000</td>\n",
       "      <td>1570</td>\n",
       "    </tr>\n",
       "    <tr>\n",
       "      <th>7</th>\n",
       "      <td>1678000</td>\n",
       "      <td>1640</td>\n",
       "    </tr>\n",
       "    <tr>\n",
       "      <th>8</th>\n",
       "      <td>1841000</td>\n",
       "      <td>1650</td>\n",
       "    </tr>\n",
       "    <tr>\n",
       "      <th>9</th>\n",
       "      <td>1965000</td>\n",
       "      <td>1750</td>\n",
       "    </tr>\n",
       "    <tr>\n",
       "      <th>10</th>\n",
       "      <td>1965000</td>\n",
       "      <td>1750</td>\n",
       "    </tr>\n",
       "    <tr>\n",
       "      <th>11</th>\n",
       "      <td>2086000</td>\n",
       "      <td>1780</td>\n",
       "    </tr>\n",
       "    <tr>\n",
       "      <th>12</th>\n",
       "      <td>2147000</td>\n",
       "      <td>2160</td>\n",
       "    </tr>\n",
       "    <tr>\n",
       "      <th>13</th>\n",
       "      <td>2512000</td>\n",
       "      <td>2190</td>\n",
       "    </tr>\n",
       "    <tr>\n",
       "      <th>14</th>\n",
       "      <td>2571000</td>\n",
       "      <td>2340</td>\n",
       "    </tr>\n",
       "    <tr>\n",
       "      <th>15</th>\n",
       "      <td>2697000</td>\n",
       "      <td>2550</td>\n",
       "    </tr>\n",
       "    <tr>\n",
       "      <th>16</th>\n",
       "      <td>2863000</td>\n",
       "      <td>2930</td>\n",
       "    </tr>\n",
       "    <tr>\n",
       "      <th>17</th>\n",
       "      <td>2889000</td>\n",
       "      <td>3080</td>\n",
       "    </tr>\n",
       "    <tr>\n",
       "      <th>18</th>\n",
       "      <td>2894000</td>\n",
       "      <td>3200</td>\n",
       "    </tr>\n",
       "    <tr>\n",
       "      <th>19</th>\n",
       "      <td>2934000</td>\n",
       "      <td>3250</td>\n",
       "    </tr>\n",
       "    <tr>\n",
       "      <th>20</th>\n",
       "      <td>2966000</td>\n",
       "      <td>3260</td>\n",
       "    </tr>\n",
       "    <tr>\n",
       "      <th>21</th>\n",
       "      <td>2998000</td>\n",
       "      <td>3300</td>\n",
       "    </tr>\n",
       "    <tr>\n",
       "      <th>22</th>\n",
       "      <td>3003000</td>\n",
       "      <td>3360</td>\n",
       "    </tr>\n",
       "    <tr>\n",
       "      <th>23</th>\n",
       "      <td>3009000</td>\n",
       "      <td>3620</td>\n",
       "    </tr>\n",
       "    <tr>\n",
       "      <th>24</th>\n",
       "      <td>3032000</td>\n",
       "      <td>3670</td>\n",
       "    </tr>\n",
       "    <tr>\n",
       "      <th>25</th>\n",
       "      <td>3095000</td>\n",
       "      <td>3680</td>\n",
       "    </tr>\n",
       "    <tr>\n",
       "      <th>26</th>\n",
       "      <td>3225000</td>\n",
       "      <td>3740</td>\n",
       "    </tr>\n",
       "    <tr>\n",
       "      <th>27</th>\n",
       "      <td>3266000</td>\n",
       "      <td>4060</td>\n",
       "    </tr>\n",
       "    <tr>\n",
       "      <th>28</th>\n",
       "      <td>3316000</td>\n",
       "      <td>4160</td>\n",
       "    </tr>\n",
       "    <tr>\n",
       "      <th>29</th>\n",
       "      <td>3331000</td>\n",
       "      <td>4170</td>\n",
       "    </tr>\n",
       "    <tr>\n",
       "      <th>30</th>\n",
       "      <td>3400000</td>\n",
       "      <td>4210</td>\n",
       "    </tr>\n",
       "    <tr>\n",
       "      <th>31</th>\n",
       "      <td>3400000</td>\n",
       "      <td>4210</td>\n",
       "    </tr>\n",
       "    <tr>\n",
       "      <th>32</th>\n",
       "      <td>3466000</td>\n",
       "      <td>4260</td>\n",
       "    </tr>\n",
       "    <tr>\n",
       "      <th>33</th>\n",
       "      <td>3625000</td>\n",
       "      <td>4350</td>\n",
       "    </tr>\n",
       "    <tr>\n",
       "      <th>34</th>\n",
       "      <td>3630000</td>\n",
       "      <td>4470</td>\n",
       "    </tr>\n",
       "    <tr>\n",
       "      <th>35</th>\n",
       "      <td>3681000</td>\n",
       "      <td>4700</td>\n",
       "    </tr>\n",
       "    <tr>\n",
       "      <th>36</th>\n",
       "      <td>3737000</td>\n",
       "      <td>4790</td>\n",
       "    </tr>\n",
       "  </tbody>\n",
       "</table>\n",
       "</div>"
      ],
      "text/plain": [
       "         Z1    Z2\n",
       "0    983000   880\n",
       "1   1182000   890\n",
       "2   1380000  1040\n",
       "3   1386000  1050\n",
       "4   1566000  1140\n",
       "5   1620000  1380\n",
       "6   1659000  1570\n",
       "7   1678000  1640\n",
       "8   1841000  1650\n",
       "9   1965000  1750\n",
       "10  1965000  1750\n",
       "11  2086000  1780\n",
       "12  2147000  2160\n",
       "13  2512000  2190\n",
       "14  2571000  2340\n",
       "15  2697000  2550\n",
       "16  2863000  2930\n",
       "17  2889000  3080\n",
       "18  2894000  3200\n",
       "19  2934000  3250\n",
       "20  2966000  3260\n",
       "21  2998000  3300\n",
       "22  3003000  3360\n",
       "23  3009000  3620\n",
       "24  3032000  3670\n",
       "25  3095000  3680\n",
       "26  3225000  3740\n",
       "27  3266000  4060\n",
       "28  3316000  4160\n",
       "29  3331000  4170\n",
       "30  3400000  4210\n",
       "31  3400000  4210\n",
       "32  3466000  4260\n",
       "33  3625000  4350\n",
       "34  3630000  4470\n",
       "35  3681000  4700\n",
       "36  3737000  4790"
      ]
     },
     "execution_count": 61,
     "metadata": {},
     "output_type": "execute_result"
    }
   ],
   "source": [
    "mm_sorted = df_mm.sort_values('Z1').reset_index(drop=True)\n",
    "mm_sorted"
   ]
  },
  {
   "cell_type": "code",
   "execution_count": 62,
   "id": "c52effe1",
   "metadata": {},
   "outputs": [],
   "source": [
    "ideal_z1 = mm_sorted['Z1'].max()\n",
    "ideal_z2 = mm_sorted['Z2'].min()"
   ]
  },
  {
   "cell_type": "code",
   "execution_count": 67,
   "id": "5c91802f",
   "metadata": {},
   "outputs": [
    {
     "data": {
      "application/vnd.microsoft.datawrangler.viewer.v0+json": {
       "columns": [
        {
         "name": "index",
         "rawType": "int64",
         "type": "integer"
        },
        {
         "name": "0",
         "rawType": "float64",
         "type": "float"
        }
       ],
       "ref": "b565fd77-9ed7-485c-8e12-dcac55ca77c0",
       "rows": [
        [
         "0",
         "2754000.0"
        ],
        [
         "1",
         "2555000.0000195694"
        ],
        [
         "2",
         "2357000.0054306323"
        ],
        [
         "3",
         "2351000.0061463206"
        ],
        [
         "4",
         "2171000.015568862"
        ],
        [
         "5",
         "2117000.0590458186"
        ],
        [
         "6",
         "2078000.1145572634"
        ],
        [
         "7",
         "2059000.1402622585"
        ],
        [
         "8",
         "1896000.1563554788"
        ],
        [
         "9",
         "1772000.2135722218"
        ],
        [
         "10",
         "1772000.2135722218"
        ],
        [
         "11",
         "1651000.245305857"
        ],
        [
         "12",
         "1590000.5152200423"
        ],
        [
         "13",
         "1225000.7004487794"
        ],
        [
         "14",
         "1166000.9140648218"
        ],
        [
         "15",
         "1040001.3408164433"
        ],
        [
         "16",
         "874002.4041728947"
        ],
        [
         "17",
         "848002.853768783"
        ],
        [
         "18",
         "843003.1924020217"
        ],
        [
         "19",
         "803003.497439457"
        ],
        [
         "20",
         "771003.6734024035"
        ],
        [
         "21",
         "739003.962370974"
        ],
        [
         "22",
         "734004.1896338195"
        ],
        [
         "23",
         "728005.1563004208"
        ],
        [
         "24",
         "705005.5206166828"
        ],
        [
         "25",
         "642006.1058899674"
        ],
        [
         "26",
         "512007.98782831506"
        ],
        [
         "27",
         "471010.7349095135"
        ],
        [
         "28",
         "421012.7770032639"
        ],
        [
         "29",
         "406013.3299535866"
        ],
        [
         "30",
         "337016.45197230356"
        ],
        [
         "31",
         "337016.45197230356"
        ],
        [
         "32",
         "271021.0774091196"
        ],
        [
         "33",
         "112053.74112451579"
        ],
        [
         "34",
         "107060.20782718479"
        ],
        [
         "35",
         "56130.13807216227"
        ],
        [
         "36",
         "3910.0"
        ]
       ],
       "shape": {
        "columns": 1,
        "rows": 37
       }
      },
      "text/plain": [
       "0     2.754000e+06\n",
       "1     2.555000e+06\n",
       "2     2.357000e+06\n",
       "3     2.351000e+06\n",
       "4     2.171000e+06\n",
       "5     2.117000e+06\n",
       "6     2.078000e+06\n",
       "7     2.059000e+06\n",
       "8     1.896000e+06\n",
       "9     1.772000e+06\n",
       "10    1.772000e+06\n",
       "11    1.651000e+06\n",
       "12    1.590001e+06\n",
       "13    1.225001e+06\n",
       "14    1.166001e+06\n",
       "15    1.040001e+06\n",
       "16    8.740024e+05\n",
       "17    8.480029e+05\n",
       "18    8.430032e+05\n",
       "19    8.030035e+05\n",
       "20    7.710037e+05\n",
       "21    7.390040e+05\n",
       "22    7.340042e+05\n",
       "23    7.280052e+05\n",
       "24    7.050055e+05\n",
       "25    6.420061e+05\n",
       "26    5.120080e+05\n",
       "27    4.710107e+05\n",
       "28    4.210128e+05\n",
       "29    4.060133e+05\n",
       "30    3.370165e+05\n",
       "31    3.370165e+05\n",
       "32    2.710211e+05\n",
       "33    1.120537e+05\n",
       "34    1.070602e+05\n",
       "35    5.613014e+04\n",
       "36    3.910000e+03\n",
       "dtype: float64"
      ]
     },
     "execution_count": 67,
     "metadata": {},
     "output_type": "execute_result"
    }
   ],
   "source": [
    "distances = np.sqrt((mm_sorted['Z1'] - ideal_z1)**2 + (mm_sorted['Z2'] - ideal_z2)**2)\n",
    "best_idx  = distances.idxmin()\n",
    "best_z1   = mm_sorted.loc[best_idx, 'Z1']\n",
    "best_z2   = mm_sorted.loc[best_idx, 'Z2']\n",
    "distances"
   ]
  },
  {
   "cell_type": "code",
   "execution_count": 64,
   "id": "b336c826",
   "metadata": {},
   "outputs": [
    {
     "data": {
      "text/plain": [
       "<Figure size 800x600 with 0 Axes>"
      ]
     },
     "metadata": {},
     "output_type": "display_data"
    }
   ],
   "source": [
    "plt.figure(figsize=(8,6))\n",
    "\n",
    "\n",
    "mn_sorted = df_mn.sort_values('Z1').reset_index(drop=True)\n",
    "x_common = np.linspace(\n",
    "    max(mm_sorted['Z1'].min(), mn_sorted['Z1'].min()),\n",
    "    min(mm_sorted['Z1'].max(), mn_sorted['Z1'].max()),\n",
    "    200\n",
    ")"
   ]
  },
  {
   "cell_type": "code",
   "execution_count": 65,
   "id": "000b6b12",
   "metadata": {},
   "outputs": [],
   "source": [
    "y_mm = np.interp(x_common, mm_sorted['Z1'], mm_sorted['Z2'])\n",
    "y_mn = np.interp(x_common, mn_sorted['Z1'], mn_sorted['Z2'])"
   ]
  },
  {
   "cell_type": "code",
   "execution_count": 66,
   "id": "1b154c32",
   "metadata": {},
   "outputs": [
    {
     "data": {
      "image/png": "[encoded data removed]",
      "text/plain": [
       "<Figure size 640x480 with 1 Axes>"
      ]
     },
     "metadata": {},
     "output_type": "display_data"
    }
   ],
   "source": [
    "plt.fill_between(x_common, y_mm, y_mn, alpha=0.3, label='Área entre frentes')\n",
    "\n",
    "# Dibujamos ambos frentes\n",
    "plt.plot(mm_sorted['Z1'], mm_sorted['Z2'], marker='o', linestyle='-', label='Max–Min')\n",
    "plt.plot(mn_sorted['Z1'], mn_sorted['Z2'], marker='x', linestyle='--', label='Min–Max')\n",
    "\n",
    "# Marcamos la mejor solución en verde\n",
    "plt.scatter([best_z1], [best_z2],\n",
    "            color='green', s=100, edgecolors='black',\n",
    "            label='Mejor solución')\n",
    "\n",
    "plt.xlabel('Z1 (calidad)')\n",
    "plt.ylabel('Z2 (costo)')\n",
    "plt.title('Comparativa: dos fronteras de Pareto con área rellena')\n",
    "plt.legend()\n",
    "plt.grid(True)\n",
    "plt.show()"
   ]
  }
 ],
 "metadata": {
  "kernelspec": {
   "display_name": "Python 3",
   "language": "python",
   "name": "python3"
  },
  "language_info": {
   "codemirror_mode": {
    "name": "ipython",
    "version": 3
   },
   "file_extension": ".py",
   "mimetype": "text/x-python",
   "name": "python",
   "nbconvert_exporter": "python",
   "pygments_lexer": "ipython3",
   "version": "3.13.0"
  }
 },
 "nbformat": 4,
 "nbformat_minor": 5
}
